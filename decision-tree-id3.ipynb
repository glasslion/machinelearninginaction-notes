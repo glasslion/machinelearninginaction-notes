{
  "nbformat": 4,
  "nbformat_minor": 0,
  "metadata": {
    "colab": {
      "name": "Untitled19.ipynb",
      "version": "0.3.2",
      "provenance": [],
      "include_colab_link": true
    },
    "kernelspec": {
      "name": "python3",
      "display_name": "Python 3"
    }
  },
  "cells": [
    {
      "cell_type": "markdown",
      "metadata": {
        "id": "view-in-github",
        "colab_type": "text"
      },
      "source": [
        "<a href=\"https://colab.research.google.com/github/glasslion/machinelearninginaction-redux/blob/master/decision-tree-id3.ipynb\" target=\"_parent\"><img src=\"https://colab.research.google.com/assets/colab-badge.svg\" alt=\"Open In Colab\"/></a>"
      ]
    },
    {
      "cell_type": "code",
      "metadata": {
        "id": "qXixa_MNFTgw",
        "colab_type": "code",
        "colab": {}
      },
      "source": [
        "from math import log\n",
        "import operator\n",
        "import numpy as np\n",
        "import pandas as pd"
      ],
      "execution_count": 0,
      "outputs": []
    },
    {
      "cell_type": "code",
      "metadata": {
        "id": "XN0NVHflFrCP",
        "colab_type": "code",
        "colab": {}
      },
      "source": [
        "def createDataSet():\n",
        "    dataSet = [[1, 1, 'yes'],\n",
        "           [1, 1, 'yes'],\n",
        "           [1, 0, 'no'],\n",
        "           [0, 1, 'no'],\n",
        "           [0, 1, 'no']]\n",
        "    dataSet = pd.DataFrame(dataSet, columns=['no surfacing', 'flippers', 'y'])\n",
        "    dataSet\n",
        "    return dataSet"
      ],
      "execution_count": 0,
      "outputs": []
    },
    {
      "cell_type": "code",
      "metadata": {
        "id": "JDvrHTApHx5G",
        "colab_type": "code",
        "colab": {
          "base_uri": "https://localhost:8080/",
          "height": 204
        },
        "outputId": "df19a368-845d-403f-ba30-7e8145377a2f"
      },
      "source": [
        "dataSet = createDataSet()\n",
        "dataSet"
      ],
      "execution_count": 3,
      "outputs": [
        {
          "output_type": "execute_result",
          "data": {
            "text/html": [
              "<div>\n",
              "<style scoped>\n",
              "    .dataframe tbody tr th:only-of-type {\n",
              "        vertical-align: middle;\n",
              "    }\n",
              "\n",
              "    .dataframe tbody tr th {\n",
              "        vertical-align: top;\n",
              "    }\n",
              "\n",
              "    .dataframe thead th {\n",
              "        text-align: right;\n",
              "    }\n",
              "</style>\n",
              "<table border=\"1\" class=\"dataframe\">\n",
              "  <thead>\n",
              "    <tr style=\"text-align: right;\">\n",
              "      <th></th>\n",
              "      <th>no surfacing</th>\n",
              "      <th>flippers</th>\n",
              "      <th>y</th>\n",
              "    </tr>\n",
              "  </thead>\n",
              "  <tbody>\n",
              "    <tr>\n",
              "      <th>0</th>\n",
              "      <td>1</td>\n",
              "      <td>1</td>\n",
              "      <td>yes</td>\n",
              "    </tr>\n",
              "    <tr>\n",
              "      <th>1</th>\n",
              "      <td>1</td>\n",
              "      <td>1</td>\n",
              "      <td>yes</td>\n",
              "    </tr>\n",
              "    <tr>\n",
              "      <th>2</th>\n",
              "      <td>1</td>\n",
              "      <td>0</td>\n",
              "      <td>no</td>\n",
              "    </tr>\n",
              "    <tr>\n",
              "      <th>3</th>\n",
              "      <td>0</td>\n",
              "      <td>1</td>\n",
              "      <td>no</td>\n",
              "    </tr>\n",
              "    <tr>\n",
              "      <th>4</th>\n",
              "      <td>0</td>\n",
              "      <td>1</td>\n",
              "      <td>no</td>\n",
              "    </tr>\n",
              "  </tbody>\n",
              "</table>\n",
              "</div>"
            ],
            "text/plain": [
              "   no surfacing  flippers    y\n",
              "0             1         1  yes\n",
              "1             1         1  yes\n",
              "2             1         0   no\n",
              "3             0         1   no\n",
              "4             0         1   no"
            ]
          },
          "metadata": {
            "tags": []
          },
          "execution_count": 3
        }
      ]
    },
    {
      "cell_type": "code",
      "metadata": {
        "id": "tKZ0_Lp212pe",
        "colab_type": "code",
        "colab": {}
      },
      "source": [
        "X, y = dataSet.drop('y', axis=1), dataSet['y']"
      ],
      "execution_count": 0,
      "outputs": []
    },
    {
      "cell_type": "code",
      "metadata": {
        "id": "O_4o_0M2IUtl",
        "colab_type": "code",
        "colab": {}
      },
      "source": [
        "def majorityCnt(y):\n",
        "    return y.value_counts().idxmax()"
      ],
      "execution_count": 0,
      "outputs": []
    },
    {
      "cell_type": "markdown",
      "metadata": {
        "id": "edHqJ31vOIf1",
        "colab_type": "text"
      },
      "source": [
        " ## 计算**香农熵（信息熵）**\n",
        "\n",
        "$H=-\\sum_{i=1}^{M} P_i\\,log_2\\,P_i$"
      ]
    },
    {
      "cell_type": "code",
      "metadata": {
        "id": "83wEuDLrP_71",
        "colab_type": "code",
        "colab": {}
      },
      "source": [
        "def calcShannonEnt(y):\n",
        "    numEntries = len(y)\n",
        "    value_counts = y.value_counts()\n",
        "    shannonEnt = 0.0\n",
        "    for cnt in value_counts :\n",
        "        prob = float(cnt)/numEntries\n",
        "        shannonEnt -= prob * log(prob, 2) #log base 2\n",
        "    return shannonEnt"
      ],
      "execution_count": 0,
      "outputs": []
    },
    {
      "cell_type": "code",
      "metadata": {
        "id": "PGmZqV1mOJjc",
        "colab_type": "code",
        "colab": {
          "base_uri": "https://localhost:8080/",
          "height": 68
        },
        "outputId": "f58731b3-3c24-4a86-d813-6f49265b5ca7"
      },
      "source": [
        "print(calcShannonEnt(pd.Series([0,0,0])))\n",
        "print(calcShannonEnt(pd.Series([0,0,1])))\n",
        "print(calcShannonEnt(pd.Series([0,1,1])))"
      ],
      "execution_count": 7,
      "outputs": [
        {
          "output_type": "stream",
          "text": [
            "0.0\n",
            "0.9182958340544896\n",
            "0.9182958340544896\n"
          ],
          "name": "stdout"
        }
      ]
    },
    {
      "cell_type": "markdown",
      "metadata": {
        "id": "ajCtT4UGOwga",
        "colab_type": "text"
      },
      "source": [
        "## 划分数据集\n",
        "\n"
      ]
    },
    {
      "cell_type": "code",
      "metadata": {
        "id": "MLeA5MPKQHsQ",
        "colab_type": "code",
        "colab": {}
      },
      "source": [
        "def splitDataSet(X, y, feat, value):\n",
        "    idx = X[feat] == value\n",
        "    return X[idx].drop(feat, axis=1), y[idx]"
      ],
      "execution_count": 0,
      "outputs": []
    },
    {
      "cell_type": "code",
      "metadata": {
        "id": "PFw04-h5PH4P",
        "colab_type": "code",
        "colab": {
          "base_uri": "https://localhost:8080/",
          "height": 111
        },
        "outputId": "8af55f60-9d7d-44c6-d76f-e7494736c161"
      },
      "source": [
        "dataSet = createDataSet()\n",
        "X, y = dataSet.drop('y', axis=1), dataSet['y']\n",
        "sX, sy = splitDataSet(X, y, 'no surfacing', 0)\n",
        "sX"
      ],
      "execution_count": 9,
      "outputs": [
        {
          "output_type": "execute_result",
          "data": {
            "text/html": [
              "<div>\n",
              "<style scoped>\n",
              "    .dataframe tbody tr th:only-of-type {\n",
              "        vertical-align: middle;\n",
              "    }\n",
              "\n",
              "    .dataframe tbody tr th {\n",
              "        vertical-align: top;\n",
              "    }\n",
              "\n",
              "    .dataframe thead th {\n",
              "        text-align: right;\n",
              "    }\n",
              "</style>\n",
              "<table border=\"1\" class=\"dataframe\">\n",
              "  <thead>\n",
              "    <tr style=\"text-align: right;\">\n",
              "      <th></th>\n",
              "      <th>flippers</th>\n",
              "    </tr>\n",
              "  </thead>\n",
              "  <tbody>\n",
              "    <tr>\n",
              "      <th>3</th>\n",
              "      <td>1</td>\n",
              "    </tr>\n",
              "    <tr>\n",
              "      <th>4</th>\n",
              "      <td>1</td>\n",
              "    </tr>\n",
              "  </tbody>\n",
              "</table>\n",
              "</div>"
            ],
            "text/plain": [
              "   flippers\n",
              "3         1\n",
              "4         1"
            ]
          },
          "metadata": {
            "tags": []
          },
          "execution_count": 9
        }
      ]
    },
    {
      "cell_type": "code",
      "metadata": {
        "id": "uGAojlWYPjoK",
        "colab_type": "code",
        "colab": {
          "base_uri": "https://localhost:8080/",
          "height": 142
        },
        "outputId": "0467798a-011e-495f-f8a9-66927b60262b"
      },
      "source": [
        "sX, sy = splitDataSet(X, y, 'no surfacing', 1)\n",
        "sX"
      ],
      "execution_count": 10,
      "outputs": [
        {
          "output_type": "execute_result",
          "data": {
            "text/html": [
              "<div>\n",
              "<style scoped>\n",
              "    .dataframe tbody tr th:only-of-type {\n",
              "        vertical-align: middle;\n",
              "    }\n",
              "\n",
              "    .dataframe tbody tr th {\n",
              "        vertical-align: top;\n",
              "    }\n",
              "\n",
              "    .dataframe thead th {\n",
              "        text-align: right;\n",
              "    }\n",
              "</style>\n",
              "<table border=\"1\" class=\"dataframe\">\n",
              "  <thead>\n",
              "    <tr style=\"text-align: right;\">\n",
              "      <th></th>\n",
              "      <th>flippers</th>\n",
              "    </tr>\n",
              "  </thead>\n",
              "  <tbody>\n",
              "    <tr>\n",
              "      <th>0</th>\n",
              "      <td>1</td>\n",
              "    </tr>\n",
              "    <tr>\n",
              "      <th>1</th>\n",
              "      <td>1</td>\n",
              "    </tr>\n",
              "    <tr>\n",
              "      <th>2</th>\n",
              "      <td>0</td>\n",
              "    </tr>\n",
              "  </tbody>\n",
              "</table>\n",
              "</div>"
            ],
            "text/plain": [
              "   flippers\n",
              "0         1\n",
              "1         1\n",
              "2         0"
            ]
          },
          "metadata": {
            "tags": []
          },
          "execution_count": 10
        }
      ]
    },
    {
      "cell_type": "markdown",
      "metadata": {
        "id": "uPhxiHzFQX2y",
        "colab_type": "text"
      },
      "source": [
        "## 寻找最佳划分\n",
        "\n",
        "最佳划分即熵减/信息增益(information gain) 最大的划分"
      ]
    },
    {
      "cell_type": "code",
      "metadata": {
        "id": "aLkyrq41k8pi",
        "colab_type": "code",
        "colab": {}
      },
      "source": [
        "def chooseBestFeatureToSplit(X, y):\n",
        "    numFeatures = len(X.columns)\n",
        "    baseEntropy = calcShannonEnt(y)\n",
        "    bestInfoGain = 0.0\n",
        "    bestFeature = -1\n",
        "    for feat in X.columns:        #iterate over all the features\n",
        "        newEntropy = 0.0\n",
        "        for value in X[feat].unique():\n",
        "            subX, suby = splitDataSet(X, y, feat, value)\n",
        "            prob = len(subX)/float(len(X))\n",
        "            newEntropy += prob * calcShannonEnt(suby)\n",
        "        infoGain = baseEntropy - newEntropy     #calculate the info gain; ie reduction in entropy\n",
        "        if (infoGain > bestInfoGain):       #compare this to the best gain so far\n",
        "            bestInfoGain = infoGain         #if better than current best, set to best\n",
        "            bestFeature = feat\n",
        "    return bestFeature                      #returns an integer"
      ],
      "execution_count": 0,
      "outputs": []
    },
    {
      "cell_type": "code",
      "metadata": {
        "id": "UxklFDk8RTIS",
        "colab_type": "code",
        "colab": {
          "base_uri": "https://localhost:8080/",
          "height": 34
        },
        "outputId": "562094d7-5110-4e8e-afa4-d1923897c22e"
      },
      "source": [
        "chooseBestFeatureToSplit(X, y)"
      ],
      "execution_count": 12,
      "outputs": [
        {
          "output_type": "execute_result",
          "data": {
            "text/plain": [
              "'no surfacing'"
            ]
          },
          "metadata": {
            "tags": []
          },
          "execution_count": 12
        }
      ]
    },
    {
      "cell_type": "code",
      "metadata": {
        "id": "sdIyzIGeRtRj",
        "colab_type": "code",
        "colab": {
          "base_uri": "https://localhost:8080/",
          "height": 111
        },
        "outputId": "6a1f66ce-2b5d-4a74-edf5-4fc8b86144b8"
      },
      "source": [
        "dataSet.iloc[1:3]"
      ],
      "execution_count": 13,
      "outputs": [
        {
          "output_type": "execute_result",
          "data": {
            "text/html": [
              "<div>\n",
              "<style scoped>\n",
              "    .dataframe tbody tr th:only-of-type {\n",
              "        vertical-align: middle;\n",
              "    }\n",
              "\n",
              "    .dataframe tbody tr th {\n",
              "        vertical-align: top;\n",
              "    }\n",
              "\n",
              "    .dataframe thead th {\n",
              "        text-align: right;\n",
              "    }\n",
              "</style>\n",
              "<table border=\"1\" class=\"dataframe\">\n",
              "  <thead>\n",
              "    <tr style=\"text-align: right;\">\n",
              "      <th></th>\n",
              "      <th>no surfacing</th>\n",
              "      <th>flippers</th>\n",
              "      <th>y</th>\n",
              "    </tr>\n",
              "  </thead>\n",
              "  <tbody>\n",
              "    <tr>\n",
              "      <th>1</th>\n",
              "      <td>1</td>\n",
              "      <td>1</td>\n",
              "      <td>yes</td>\n",
              "    </tr>\n",
              "    <tr>\n",
              "      <th>2</th>\n",
              "      <td>1</td>\n",
              "      <td>0</td>\n",
              "      <td>no</td>\n",
              "    </tr>\n",
              "  </tbody>\n",
              "</table>\n",
              "</div>"
            ],
            "text/plain": [
              "   no surfacing  flippers    y\n",
              "1             1         1  yes\n",
              "2             1         0   no"
            ]
          },
          "metadata": {
            "tags": []
          },
          "execution_count": 13
        }
      ]
    },
    {
      "cell_type": "code",
      "metadata": {
        "id": "xnW-zc_jRk6F",
        "colab_type": "code",
        "colab": {
          "base_uri": "https://localhost:8080/",
          "height": 34
        },
        "outputId": "d7e2ef03-e5b0-4bfb-8014-ee45da88c81c"
      },
      "source": [
        "chooseBestFeatureToSplit(X.iloc[1:3], y.iloc[1:3])"
      ],
      "execution_count": 14,
      "outputs": [
        {
          "output_type": "execute_result",
          "data": {
            "text/plain": [
              "'flippers'"
            ]
          },
          "metadata": {
            "tags": []
          },
          "execution_count": 14
        }
      ]
    },
    {
      "cell_type": "markdown",
      "metadata": {
        "id": "s1flYLKvQnLw",
        "colab_type": "text"
      },
      "source": [
        "## 递归构建树"
      ]
    },
    {
      "cell_type": "code",
      "metadata": {
        "id": "EzoTKONGQmSA",
        "colab_type": "code",
        "colab": {}
      },
      "source": [
        "def createTree(X, y):\n",
        "    if len(y.unique()) == 1:\n",
        "        #stop splitting when all of the classes are equal\n",
        "        return y.iloc[0]\n",
        "    if len(X.columns) == 0: #stop splitting when there are no more features in dataSet\n",
        "        return majorityCnt(y)\n",
        "    bestFeat = chooseBestFeatureToSplit(X, y)\n",
        "    myTree = {bestFeat:{}}\n",
        "    for value in X[bestFeat].unique():\n",
        "        myTree[bestFeat][value] = createTree(*splitDataSet(X, y, bestFeat, value))\n",
        "    return myTree"
      ],
      "execution_count": 0,
      "outputs": []
    },
    {
      "cell_type": "code",
      "metadata": {
        "id": "pEUEkZasRQyH",
        "colab_type": "code",
        "colab": {
          "base_uri": "https://localhost:8080/",
          "height": 34
        },
        "outputId": "63e4333b-56d1-4e59-a7e9-6afc8a26a549"
      },
      "source": [
        "tree = createTree(X, y)\n",
        "tree"
      ],
      "execution_count": 16,
      "outputs": [
        {
          "output_type": "execute_result",
          "data": {
            "text/plain": [
              "{'no surfacing': {0: 'no', 1: {'flippers': {0: 'no', 1: 'yes'}}}}"
            ]
          },
          "metadata": {
            "tags": []
          },
          "execution_count": 16
        }
      ]
    }
  ]
}